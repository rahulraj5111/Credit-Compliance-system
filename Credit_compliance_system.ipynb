{
 "cells": [
  {
   "cell_type": "code",
   "execution_count": 24,
   "id": "fb54adaf",
   "metadata": {},
   "outputs": [],
   "source": [
    "import pandas as pd\n",
    "import numpy as np\n",
    "import matplotlib.pyplot as plt\n",
    "import seaborn as sns\n",
    "%matplotlib inline\n",
    "from sklearn.compose import ColumnTransformer\n",
    "from sklearn.pipeline import Pipeline\n",
    "from sklearn.model_selection import train_test_split, learning_curve, RandomizedSearchCV\n",
    "from sklearn.preprocessing import OneHotEncoder, StandardScaler\n",
    "from sklearn.experimental import enable_iterative_imputer\n",
    "from sklearn.impute import IterativeImputer\n",
    "from sklearn.metrics import plot_precision_recall_curve\n",
    "from sklearn.linear_model import LinearRegression\n",
    "from sklearn.neighbors import KNeighborsRegressor\n",
    "from sklearn.ensemble import RandomForestClassifier, RandomForestRegressor\n",
    "from sklearn.metrics import plot_confusion_matrix, confusion_matrix, classification_report\n",
    "from lightgbm import LGBMClassifier"
   ]
  },
  {
   "cell_type": "code",
   "execution_count": 3,
   "id": "3f4662f2",
   "metadata": {},
   "outputs": [
    {
     "data": {
      "text/html": [
       "<div>\n",
       "<style scoped>\n",
       "    .dataframe tbody tr th:only-of-type {\n",
       "        vertical-align: middle;\n",
       "    }\n",
       "\n",
       "    .dataframe tbody tr th {\n",
       "        vertical-align: top;\n",
       "    }\n",
       "\n",
       "    .dataframe thead th {\n",
       "        text-align: right;\n",
       "    }\n",
       "</style>\n",
       "<table border=\"1\" class=\"dataframe\">\n",
       "  <thead>\n",
       "    <tr style=\"text-align: right;\">\n",
       "      <th></th>\n",
       "      <th>person_age</th>\n",
       "      <th>person_income</th>\n",
       "      <th>person_home_ownership</th>\n",
       "      <th>person_emp_length</th>\n",
       "      <th>loan_intent</th>\n",
       "      <th>loan_grade</th>\n",
       "      <th>loan_amnt</th>\n",
       "      <th>loan_int_rate</th>\n",
       "      <th>loan_status</th>\n",
       "      <th>loan_percent_income</th>\n",
       "      <th>cb_person_default_on_file</th>\n",
       "      <th>cb_person_cred_hist_length</th>\n",
       "    </tr>\n",
       "  </thead>\n",
       "  <tbody>\n",
       "    <tr>\n",
       "      <th>0</th>\n",
       "      <td>22</td>\n",
       "      <td>59000</td>\n",
       "      <td>RENT</td>\n",
       "      <td>123.0</td>\n",
       "      <td>PERSONAL</td>\n",
       "      <td>D</td>\n",
       "      <td>35000</td>\n",
       "      <td>16.02</td>\n",
       "      <td>1</td>\n",
       "      <td>0.59</td>\n",
       "      <td>Y</td>\n",
       "      <td>3</td>\n",
       "    </tr>\n",
       "    <tr>\n",
       "      <th>1</th>\n",
       "      <td>21</td>\n",
       "      <td>9600</td>\n",
       "      <td>OWN</td>\n",
       "      <td>5.0</td>\n",
       "      <td>EDUCATION</td>\n",
       "      <td>B</td>\n",
       "      <td>1000</td>\n",
       "      <td>11.14</td>\n",
       "      <td>0</td>\n",
       "      <td>0.10</td>\n",
       "      <td>N</td>\n",
       "      <td>2</td>\n",
       "    </tr>\n",
       "    <tr>\n",
       "      <th>2</th>\n",
       "      <td>25</td>\n",
       "      <td>9600</td>\n",
       "      <td>MORTGAGE</td>\n",
       "      <td>1.0</td>\n",
       "      <td>MEDICAL</td>\n",
       "      <td>C</td>\n",
       "      <td>5500</td>\n",
       "      <td>12.87</td>\n",
       "      <td>1</td>\n",
       "      <td>0.57</td>\n",
       "      <td>N</td>\n",
       "      <td>3</td>\n",
       "    </tr>\n",
       "    <tr>\n",
       "      <th>3</th>\n",
       "      <td>23</td>\n",
       "      <td>65500</td>\n",
       "      <td>RENT</td>\n",
       "      <td>4.0</td>\n",
       "      <td>MEDICAL</td>\n",
       "      <td>C</td>\n",
       "      <td>35000</td>\n",
       "      <td>15.23</td>\n",
       "      <td>1</td>\n",
       "      <td>0.53</td>\n",
       "      <td>N</td>\n",
       "      <td>2</td>\n",
       "    </tr>\n",
       "    <tr>\n",
       "      <th>4</th>\n",
       "      <td>24</td>\n",
       "      <td>54400</td>\n",
       "      <td>RENT</td>\n",
       "      <td>8.0</td>\n",
       "      <td>MEDICAL</td>\n",
       "      <td>C</td>\n",
       "      <td>35000</td>\n",
       "      <td>14.27</td>\n",
       "      <td>1</td>\n",
       "      <td>0.55</td>\n",
       "      <td>Y</td>\n",
       "      <td>4</td>\n",
       "    </tr>\n",
       "  </tbody>\n",
       "</table>\n",
       "</div>"
      ],
      "text/plain": [
       "   person_age  person_income person_home_ownership  person_emp_length  \\\n",
       "0          22          59000                  RENT              123.0   \n",
       "1          21           9600                   OWN                5.0   \n",
       "2          25           9600              MORTGAGE                1.0   \n",
       "3          23          65500                  RENT                4.0   \n",
       "4          24          54400                  RENT                8.0   \n",
       "\n",
       "  loan_intent loan_grade  loan_amnt  loan_int_rate  loan_status  \\\n",
       "0    PERSONAL          D      35000          16.02            1   \n",
       "1   EDUCATION          B       1000          11.14            0   \n",
       "2     MEDICAL          C       5500          12.87            1   \n",
       "3     MEDICAL          C      35000          15.23            1   \n",
       "4     MEDICAL          C      35000          14.27            1   \n",
       "\n",
       "   loan_percent_income cb_person_default_on_file  cb_person_cred_hist_length  \n",
       "0                 0.59                         Y                           3  \n",
       "1                 0.10                         N                           2  \n",
       "2                 0.57                         N                           3  \n",
       "3                 0.53                         N                           2  \n",
       "4                 0.55                         Y                           4  "
      ]
     },
     "execution_count": 3,
     "metadata": {},
     "output_type": "execute_result"
    }
   ],
   "source": [
    "df = pd.read_csv('credit_risk_dataset.csv')\n",
    "df.head()"
   ]
  },
  {
   "cell_type": "code",
   "execution_count": 4,
   "id": "a1241b24",
   "metadata": {},
   "outputs": [],
   "source": [
    "#checking for duplicate records\n",
    "dups = df.duplicated()\n"
   ]
  },
  {
   "cell_type": "code",
   "execution_count": 5,
   "id": "ab1a5c79",
   "metadata": {},
   "outputs": [
    {
     "data": {
      "text/html": [
       "<div>\n",
       "<style scoped>\n",
       "    .dataframe tbody tr th:only-of-type {\n",
       "        vertical-align: middle;\n",
       "    }\n",
       "\n",
       "    .dataframe tbody tr th {\n",
       "        vertical-align: top;\n",
       "    }\n",
       "\n",
       "    .dataframe thead th {\n",
       "        text-align: right;\n",
       "    }\n",
       "</style>\n",
       "<table border=\"1\" class=\"dataframe\">\n",
       "  <thead>\n",
       "    <tr style=\"text-align: right;\">\n",
       "      <th></th>\n",
       "      <th>person_age</th>\n",
       "      <th>person_income</th>\n",
       "      <th>person_home_ownership</th>\n",
       "      <th>person_emp_length</th>\n",
       "      <th>loan_intent</th>\n",
       "      <th>loan_grade</th>\n",
       "      <th>loan_amnt</th>\n",
       "      <th>loan_int_rate</th>\n",
       "      <th>loan_status</th>\n",
       "      <th>loan_percent_income</th>\n",
       "      <th>cb_person_default_on_file</th>\n",
       "      <th>cb_person_cred_hist_length</th>\n",
       "    </tr>\n",
       "  </thead>\n",
       "  <tbody>\n",
       "    <tr>\n",
       "      <th>15975</th>\n",
       "      <td>23</td>\n",
       "      <td>42000</td>\n",
       "      <td>RENT</td>\n",
       "      <td>5.0</td>\n",
       "      <td>VENTURE</td>\n",
       "      <td>B</td>\n",
       "      <td>6000</td>\n",
       "      <td>9.99</td>\n",
       "      <td>0</td>\n",
       "      <td>0.14</td>\n",
       "      <td>N</td>\n",
       "      <td>4</td>\n",
       "    </tr>\n",
       "    <tr>\n",
       "      <th>15989</th>\n",
       "      <td>23</td>\n",
       "      <td>90000</td>\n",
       "      <td>MORTGAGE</td>\n",
       "      <td>7.0</td>\n",
       "      <td>EDUCATION</td>\n",
       "      <td>B</td>\n",
       "      <td>8000</td>\n",
       "      <td>10.36</td>\n",
       "      <td>0</td>\n",
       "      <td>0.09</td>\n",
       "      <td>N</td>\n",
       "      <td>3</td>\n",
       "    </tr>\n",
       "    <tr>\n",
       "      <th>15995</th>\n",
       "      <td>24</td>\n",
       "      <td>48000</td>\n",
       "      <td>MORTGAGE</td>\n",
       "      <td>4.0</td>\n",
       "      <td>MEDICAL</td>\n",
       "      <td>A</td>\n",
       "      <td>4000</td>\n",
       "      <td>5.42</td>\n",
       "      <td>0</td>\n",
       "      <td>0.08</td>\n",
       "      <td>N</td>\n",
       "      <td>4</td>\n",
       "    </tr>\n",
       "    <tr>\n",
       "      <th>16025</th>\n",
       "      <td>24</td>\n",
       "      <td>10000</td>\n",
       "      <td>RENT</td>\n",
       "      <td>8.0</td>\n",
       "      <td>PERSONAL</td>\n",
       "      <td>A</td>\n",
       "      <td>3000</td>\n",
       "      <td>7.90</td>\n",
       "      <td>1</td>\n",
       "      <td>0.30</td>\n",
       "      <td>N</td>\n",
       "      <td>3</td>\n",
       "    </tr>\n",
       "    <tr>\n",
       "      <th>16028</th>\n",
       "      <td>23</td>\n",
       "      <td>100000</td>\n",
       "      <td>MORTGAGE</td>\n",
       "      <td>7.0</td>\n",
       "      <td>EDUCATION</td>\n",
       "      <td>A</td>\n",
       "      <td>15000</td>\n",
       "      <td>7.88</td>\n",
       "      <td>0</td>\n",
       "      <td>0.15</td>\n",
       "      <td>N</td>\n",
       "      <td>4</td>\n",
       "    </tr>\n",
       "    <tr>\n",
       "      <th>...</th>\n",
       "      <td>...</td>\n",
       "      <td>...</td>\n",
       "      <td>...</td>\n",
       "      <td>...</td>\n",
       "      <td>...</td>\n",
       "      <td>...</td>\n",
       "      <td>...</td>\n",
       "      <td>...</td>\n",
       "      <td>...</td>\n",
       "      <td>...</td>\n",
       "      <td>...</td>\n",
       "      <td>...</td>\n",
       "    </tr>\n",
       "    <tr>\n",
       "      <th>32010</th>\n",
       "      <td>42</td>\n",
       "      <td>39996</td>\n",
       "      <td>MORTGAGE</td>\n",
       "      <td>2.0</td>\n",
       "      <td>HOMEIMPROVEMENT</td>\n",
       "      <td>A</td>\n",
       "      <td>2500</td>\n",
       "      <td>5.42</td>\n",
       "      <td>0</td>\n",
       "      <td>0.06</td>\n",
       "      <td>N</td>\n",
       "      <td>12</td>\n",
       "    </tr>\n",
       "    <tr>\n",
       "      <th>32047</th>\n",
       "      <td>36</td>\n",
       "      <td>250000</td>\n",
       "      <td>RENT</td>\n",
       "      <td>2.0</td>\n",
       "      <td>DEBTCONSOLIDATION</td>\n",
       "      <td>A</td>\n",
       "      <td>20000</td>\n",
       "      <td>7.88</td>\n",
       "      <td>0</td>\n",
       "      <td>0.08</td>\n",
       "      <td>N</td>\n",
       "      <td>17</td>\n",
       "    </tr>\n",
       "    <tr>\n",
       "      <th>32172</th>\n",
       "      <td>49</td>\n",
       "      <td>120000</td>\n",
       "      <td>MORTGAGE</td>\n",
       "      <td>12.0</td>\n",
       "      <td>MEDICAL</td>\n",
       "      <td>B</td>\n",
       "      <td>12000</td>\n",
       "      <td>10.99</td>\n",
       "      <td>0</td>\n",
       "      <td>0.10</td>\n",
       "      <td>N</td>\n",
       "      <td>12</td>\n",
       "    </tr>\n",
       "    <tr>\n",
       "      <th>32259</th>\n",
       "      <td>39</td>\n",
       "      <td>40000</td>\n",
       "      <td>OWN</td>\n",
       "      <td>4.0</td>\n",
       "      <td>VENTURE</td>\n",
       "      <td>B</td>\n",
       "      <td>1000</td>\n",
       "      <td>10.37</td>\n",
       "      <td>0</td>\n",
       "      <td>0.03</td>\n",
       "      <td>N</td>\n",
       "      <td>16</td>\n",
       "    </tr>\n",
       "    <tr>\n",
       "      <th>32279</th>\n",
       "      <td>43</td>\n",
       "      <td>11340</td>\n",
       "      <td>RENT</td>\n",
       "      <td>4.0</td>\n",
       "      <td>EDUCATION</td>\n",
       "      <td>C</td>\n",
       "      <td>1950</td>\n",
       "      <td>NaN</td>\n",
       "      <td>1</td>\n",
       "      <td>0.17</td>\n",
       "      <td>N</td>\n",
       "      <td>11</td>\n",
       "    </tr>\n",
       "  </tbody>\n",
       "</table>\n",
       "<p>165 rows × 12 columns</p>\n",
       "</div>"
      ],
      "text/plain": [
       "       person_age  person_income person_home_ownership  person_emp_length  \\\n",
       "15975          23          42000                  RENT                5.0   \n",
       "15989          23          90000              MORTGAGE                7.0   \n",
       "15995          24          48000              MORTGAGE                4.0   \n",
       "16025          24          10000                  RENT                8.0   \n",
       "16028          23         100000              MORTGAGE                7.0   \n",
       "...           ...            ...                   ...                ...   \n",
       "32010          42          39996              MORTGAGE                2.0   \n",
       "32047          36         250000                  RENT                2.0   \n",
       "32172          49         120000              MORTGAGE               12.0   \n",
       "32259          39          40000                   OWN                4.0   \n",
       "32279          43          11340                  RENT                4.0   \n",
       "\n",
       "             loan_intent loan_grade  loan_amnt  loan_int_rate  loan_status  \\\n",
       "15975            VENTURE          B       6000           9.99            0   \n",
       "15989          EDUCATION          B       8000          10.36            0   \n",
       "15995            MEDICAL          A       4000           5.42            0   \n",
       "16025           PERSONAL          A       3000           7.90            1   \n",
       "16028          EDUCATION          A      15000           7.88            0   \n",
       "...                  ...        ...        ...            ...          ...   \n",
       "32010    HOMEIMPROVEMENT          A       2500           5.42            0   \n",
       "32047  DEBTCONSOLIDATION          A      20000           7.88            0   \n",
       "32172            MEDICAL          B      12000          10.99            0   \n",
       "32259            VENTURE          B       1000          10.37            0   \n",
       "32279          EDUCATION          C       1950            NaN            1   \n",
       "\n",
       "       loan_percent_income cb_person_default_on_file  \\\n",
       "15975                 0.14                         N   \n",
       "15989                 0.09                         N   \n",
       "15995                 0.08                         N   \n",
       "16025                 0.30                         N   \n",
       "16028                 0.15                         N   \n",
       "...                    ...                       ...   \n",
       "32010                 0.06                         N   \n",
       "32047                 0.08                         N   \n",
       "32172                 0.10                         N   \n",
       "32259                 0.03                         N   \n",
       "32279                 0.17                         N   \n",
       "\n",
       "       cb_person_cred_hist_length  \n",
       "15975                           4  \n",
       "15989                           3  \n",
       "15995                           4  \n",
       "16025                           3  \n",
       "16028                           4  \n",
       "...                           ...  \n",
       "32010                          12  \n",
       "32047                          17  \n",
       "32172                          12  \n",
       "32259                          16  \n",
       "32279                          11  \n",
       "\n",
       "[165 rows x 12 columns]"
      ]
     },
     "execution_count": 5,
     "metadata": {},
     "output_type": "execute_result"
    }
   ],
   "source": [
    "df[dups]"
   ]
  },
  {
   "cell_type": "code",
   "execution_count": 6,
   "id": "71489580",
   "metadata": {},
   "outputs": [
    {
     "data": {
      "text/html": [
       "<div>\n",
       "<style scoped>\n",
       "    .dataframe tbody tr th:only-of-type {\n",
       "        vertical-align: middle;\n",
       "    }\n",
       "\n",
       "    .dataframe tbody tr th {\n",
       "        vertical-align: top;\n",
       "    }\n",
       "\n",
       "    .dataframe thead th {\n",
       "        text-align: right;\n",
       "    }\n",
       "</style>\n",
       "<table border=\"1\" class=\"dataframe\">\n",
       "  <thead>\n",
       "    <tr style=\"text-align: right;\">\n",
       "      <th></th>\n",
       "      <th>person_age</th>\n",
       "      <th>person_income</th>\n",
       "      <th>person_home_ownership</th>\n",
       "      <th>person_emp_length</th>\n",
       "      <th>loan_intent</th>\n",
       "      <th>loan_grade</th>\n",
       "      <th>loan_amnt</th>\n",
       "      <th>loan_int_rate</th>\n",
       "      <th>loan_status</th>\n",
       "      <th>loan_percent_income</th>\n",
       "      <th>cb_person_default_on_file</th>\n",
       "      <th>cb_person_cred_hist_length</th>\n",
       "    </tr>\n",
       "  </thead>\n",
       "  <tbody>\n",
       "    <tr>\n",
       "      <th>6464</th>\n",
       "      <td>23</td>\n",
       "      <td>42000</td>\n",
       "      <td>RENT</td>\n",
       "      <td>5.0</td>\n",
       "      <td>VENTURE</td>\n",
       "      <td>B</td>\n",
       "      <td>6000</td>\n",
       "      <td>9.99</td>\n",
       "      <td>0</td>\n",
       "      <td>0.14</td>\n",
       "      <td>N</td>\n",
       "      <td>4</td>\n",
       "    </tr>\n",
       "    <tr>\n",
       "      <th>15975</th>\n",
       "      <td>23</td>\n",
       "      <td>42000</td>\n",
       "      <td>RENT</td>\n",
       "      <td>5.0</td>\n",
       "      <td>VENTURE</td>\n",
       "      <td>B</td>\n",
       "      <td>6000</td>\n",
       "      <td>9.99</td>\n",
       "      <td>0</td>\n",
       "      <td>0.14</td>\n",
       "      <td>N</td>\n",
       "      <td>4</td>\n",
       "    </tr>\n",
       "  </tbody>\n",
       "</table>\n",
       "</div>"
      ],
      "text/plain": [
       "       person_age  person_income person_home_ownership  person_emp_length  \\\n",
       "6464           23          42000                  RENT                5.0   \n",
       "15975          23          42000                  RENT                5.0   \n",
       "\n",
       "      loan_intent loan_grade  loan_amnt  loan_int_rate  loan_status  \\\n",
       "6464      VENTURE          B       6000           9.99            0   \n",
       "15975     VENTURE          B       6000           9.99            0   \n",
       "\n",
       "       loan_percent_income cb_person_default_on_file  \\\n",
       "6464                  0.14                         N   \n",
       "15975                 0.14                         N   \n",
       "\n",
       "       cb_person_cred_hist_length  \n",
       "6464                            4  \n",
       "15975                           4  "
      ]
     },
     "execution_count": 6,
     "metadata": {},
     "output_type": "execute_result"
    }
   ],
   "source": [
    "df.query(\"person_age==23 & person_income==42000 &\\\n",
    "person_home_ownership=='RENT' & loan_int_rate==9.99\")"
   ]
  },
  {
   "cell_type": "code",
   "execution_count": 7,
   "id": "14aec153",
   "metadata": {},
   "outputs": [
    {
     "data": {
      "text/plain": [
       "(32581, 12)"
      ]
     },
     "execution_count": 7,
     "metadata": {},
     "output_type": "execute_result"
    }
   ],
   "source": [
    "df.shape"
   ]
  },
  {
   "cell_type": "code",
   "execution_count": 8,
   "id": "b9a2776e",
   "metadata": {},
   "outputs": [],
   "source": [
    "#dropping the duplicate records\n",
    "df.drop_duplicates(inplace=True)"
   ]
  },
  {
   "cell_type": "code",
   "execution_count": 9,
   "id": "2be61de3",
   "metadata": {},
   "outputs": [
    {
     "data": {
      "text/plain": [
       "(32416, 12)"
      ]
     },
     "execution_count": 9,
     "metadata": {},
     "output_type": "execute_result"
    }
   ],
   "source": [
    "df.shape"
   ]
  },
  {
   "cell_type": "code",
   "execution_count": 10,
   "id": "7addcc05",
   "metadata": {},
   "outputs": [],
   "source": [
    "#Splitting the dataset into training and for model evaluation\n",
    "X, X_test, y, y_test = train_test_split(df.drop('loan_status', axis=1), df['loan_status'],\n",
    "                                        random_state=0,  test_size=0.2, stratify=df['loan_status'],\n",
    "                                        shuffle=True)"
   ]
  },
  {
   "cell_type": "code",
   "execution_count": 11,
   "id": "fd2282e4",
   "metadata": {},
   "outputs": [
    {
     "data": {
      "text/plain": [
       "0    0.781312\n",
       "1    0.218688\n",
       "Name: loan_status, dtype: float64"
      ]
     },
     "execution_count": 11,
     "metadata": {},
     "output_type": "execute_result"
    }
   ],
   "source": [
    "df['loan_status'].value_counts(normalize=True)"
   ]
  },
  {
   "cell_type": "code",
   "execution_count": 12,
   "id": "c32213ff",
   "metadata": {},
   "outputs": [
    {
     "data": {
      "text/plain": [
       "0    0.781313\n",
       "1    0.218687\n",
       "Name: loan_status, dtype: float64"
      ]
     },
     "execution_count": 12,
     "metadata": {},
     "output_type": "execute_result"
    }
   ],
   "source": [
    "y.value_counts(normalize=True)"
   ]
  },
  {
   "cell_type": "code",
   "execution_count": 13,
   "id": "735a9696",
   "metadata": {},
   "outputs": [
    {
     "data": {
      "text/plain": [
       "0    0.781308\n",
       "1    0.218692\n",
       "Name: loan_status, dtype: float64"
      ]
     },
     "execution_count": 13,
     "metadata": {},
     "output_type": "execute_result"
    }
   ],
   "source": [
    "y_test.value_counts(normalize=True)"
   ]
  },
  {
   "cell_type": "code",
   "execution_count": 14,
   "id": "0f0ed414",
   "metadata": {},
   "outputs": [
    {
     "data": {
      "text/plain": [
       "person_age                    0.000\n",
       "person_income                 0.000\n",
       "person_home_ownership         0.000\n",
       "person_emp_length             2.800\n",
       "loan_intent                   0.000\n",
       "loan_grade                    0.000\n",
       "loan_amnt                     0.000\n",
       "loan_int_rate                 9.614\n",
       "loan_percent_income           0.000\n",
       "cb_person_default_on_file     0.000\n",
       "cb_person_cred_hist_length    0.000\n",
       "dtype: float64"
      ]
     },
     "execution_count": 14,
     "metadata": {},
     "output_type": "execute_result"
    }
   ],
   "source": [
    "np.round(X.isna().sum()* 100 / X.shape[0], 3)"
   ]
  },
  {
   "cell_type": "code",
   "execution_count": 15,
   "id": "63b38f29",
   "metadata": {},
   "outputs": [
    {
     "data": {
      "text/plain": [
       "(25932, 11)"
      ]
     },
     "execution_count": 15,
     "metadata": {},
     "output_type": "execute_result"
    }
   ],
   "source": [
    "X.shape"
   ]
  },
  {
   "cell_type": "code",
   "execution_count": 16,
   "id": "3cdbb8da",
   "metadata": {},
   "outputs": [
    {
     "data": {
      "text/plain": [
       "(22763, 11)"
      ]
     },
     "execution_count": 16,
     "metadata": {},
     "output_type": "execute_result"
    }
   ],
   "source": [
    "X.dropna().shape"
   ]
  },
  {
   "cell_type": "code",
   "execution_count": 17,
   "id": "883f4250",
   "metadata": {},
   "outputs": [
    {
     "data": {
      "text/plain": [
       "0.12220422643837729"
      ]
     },
     "execution_count": 17,
     "metadata": {},
     "output_type": "execute_result"
    }
   ],
   "source": [
    "(25932-22763)/25932"
   ]
  },
  {
   "cell_type": "code",
   "execution_count": 18,
   "id": "db7c4d14",
   "metadata": {},
   "outputs": [
    {
     "data": {
      "text/html": [
       "<div>\n",
       "<style scoped>\n",
       "    .dataframe tbody tr th:only-of-type {\n",
       "        vertical-align: middle;\n",
       "    }\n",
       "\n",
       "    .dataframe tbody tr th {\n",
       "        vertical-align: top;\n",
       "    }\n",
       "\n",
       "    .dataframe thead th {\n",
       "        text-align: right;\n",
       "    }\n",
       "</style>\n",
       "<table border=\"1\" class=\"dataframe\">\n",
       "  <thead>\n",
       "    <tr style=\"text-align: right;\">\n",
       "      <th></th>\n",
       "      <th>person_income</th>\n",
       "      <th>loan_amnt</th>\n",
       "      <th>loan_percent_income</th>\n",
       "    </tr>\n",
       "  </thead>\n",
       "  <tbody>\n",
       "    <tr>\n",
       "      <th>21415</th>\n",
       "      <td>48000</td>\n",
       "      <td>10000</td>\n",
       "      <td>0.21</td>\n",
       "    </tr>\n",
       "    <tr>\n",
       "      <th>12916</th>\n",
       "      <td>85000</td>\n",
       "      <td>7500</td>\n",
       "      <td>0.09</td>\n",
       "    </tr>\n",
       "    <tr>\n",
       "      <th>2938</th>\n",
       "      <td>125000</td>\n",
       "      <td>3000</td>\n",
       "      <td>0.02</td>\n",
       "    </tr>\n",
       "    <tr>\n",
       "      <th>19114</th>\n",
       "      <td>62000</td>\n",
       "      <td>2300</td>\n",
       "      <td>0.04</td>\n",
       "    </tr>\n",
       "    <tr>\n",
       "      <th>6057</th>\n",
       "      <td>48000</td>\n",
       "      <td>4200</td>\n",
       "      <td>0.09</td>\n",
       "    </tr>\n",
       "  </tbody>\n",
       "</table>\n",
       "</div>"
      ],
      "text/plain": [
       "       person_income  loan_amnt  loan_percent_income\n",
       "21415          48000      10000                 0.21\n",
       "12916          85000       7500                 0.09\n",
       "2938          125000       3000                 0.02\n",
       "19114          62000       2300                 0.04\n",
       "6057           48000       4200                 0.09"
      ]
     },
     "execution_count": 18,
     "metadata": {},
     "output_type": "execute_result"
    }
   ],
   "source": [
    "X[['person_income', 'loan_amnt', 'loan_percent_income']].head()"
   ]
  },
  {
   "cell_type": "code",
   "execution_count": 19,
   "id": "91108dc7",
   "metadata": {},
   "outputs": [],
   "source": [
    "X.drop('loan_percent_income', axis=1, inplace=True)\n",
    "X_test.drop('loan_percent_income', axis=1, inplace=True)"
   ]
  },
  {
   "cell_type": "code",
   "execution_count": 20,
   "id": "96bd3b5d",
   "metadata": {},
   "outputs": [
    {
     "name": "stdout",
     "output_type": "stream",
     "text": [
      "person_age ---> 58\n",
      "\n",
      "person_income ---> 3680\n",
      "\n",
      "person_home_ownership ---> 4\n",
      "RENT        50.320068\n",
      "MORTGAGE    41.439149\n",
      "OWN          7.916859\n",
      "OTHER        0.323924\n",
      "Name: person_home_ownership, dtype: float64\n",
      "\n",
      "person_emp_length ---> 36\n",
      "\n",
      "loan_intent ---> 6\n",
      "EDUCATION            19.809502\n",
      "MEDICAL              18.787598\n",
      "VENTURE              17.542033\n",
      "PERSONAL             16.878760\n",
      "DEBTCONSOLIDATION    15.968687\n",
      "HOMEIMPROVEMENT      11.013420\n",
      "Name: loan_intent, dtype: float64\n",
      "\n",
      "loan_grade ---> 7\n",
      "A    32.932284\n",
      "B    32.126330\n",
      "C    19.902052\n",
      "D    11.121394\n",
      "E     3.004010\n",
      "F     0.732685\n",
      "G     0.181243\n",
      "Name: loan_grade, dtype: float64\n",
      "\n",
      "loan_amnt ---> 710\n",
      "\n",
      "loan_int_rate ---> 346\n",
      "\n",
      "cb_person_default_on_file ---> 2\n",
      "N    82.392411\n",
      "Y    17.607589\n",
      "Name: cb_person_default_on_file, dtype: float64\n",
      "\n",
      "cb_person_cred_hist_length ---> 29\n",
      "\n"
     ]
    }
   ],
   "source": [
    "for col in X:\n",
    "    print(col, '--->', X[col].nunique())\n",
    "    if X[col].nunique()<20:\n",
    "        print(X[col].value_counts(normalize=True)*100)\n",
    "    print()"
   ]
  },
  {
   "cell_type": "code",
   "execution_count": 21,
   "id": "b2cf8ad3",
   "metadata": {},
   "outputs": [
    {
     "data": {
      "text/html": [
       "<div>\n",
       "<style scoped>\n",
       "    .dataframe tbody tr th:only-of-type {\n",
       "        vertical-align: middle;\n",
       "    }\n",
       "\n",
       "    .dataframe tbody tr th {\n",
       "        vertical-align: top;\n",
       "    }\n",
       "\n",
       "    .dataframe thead th {\n",
       "        text-align: right;\n",
       "    }\n",
       "</style>\n",
       "<table border=\"1\" class=\"dataframe\">\n",
       "  <thead>\n",
       "    <tr style=\"text-align: right;\">\n",
       "      <th></th>\n",
       "      <th>person_age</th>\n",
       "      <th>person_income</th>\n",
       "      <th>person_emp_length</th>\n",
       "      <th>loan_amnt</th>\n",
       "      <th>loan_int_rate</th>\n",
       "      <th>cb_person_cred_hist_length</th>\n",
       "    </tr>\n",
       "  </thead>\n",
       "  <tbody>\n",
       "    <tr>\n",
       "      <th>count</th>\n",
       "      <td>25932.000000</td>\n",
       "      <td>2.593200e+04</td>\n",
       "      <td>25206.000000</td>\n",
       "      <td>25932.000000</td>\n",
       "      <td>23439.000000</td>\n",
       "      <td>25932.000000</td>\n",
       "    </tr>\n",
       "    <tr>\n",
       "      <th>mean</th>\n",
       "      <td>27.721155</td>\n",
       "      <td>6.589884e+04</td>\n",
       "      <td>4.811315</td>\n",
       "      <td>9611.395187</td>\n",
       "      <td>11.013784</td>\n",
       "      <td>5.793460</td>\n",
       "    </tr>\n",
       "    <tr>\n",
       "      <th>std</th>\n",
       "      <td>6.382311</td>\n",
       "      <td>6.333831e+04</td>\n",
       "      <td>4.172822</td>\n",
       "      <td>6339.054572</td>\n",
       "      <td>3.240104</td>\n",
       "      <td>4.052297</td>\n",
       "    </tr>\n",
       "    <tr>\n",
       "      <th>min</th>\n",
       "      <td>20.000000</td>\n",
       "      <td>4.000000e+03</td>\n",
       "      <td>0.000000</td>\n",
       "      <td>500.000000</td>\n",
       "      <td>5.420000</td>\n",
       "      <td>2.000000</td>\n",
       "    </tr>\n",
       "    <tr>\n",
       "      <th>25%</th>\n",
       "      <td>23.000000</td>\n",
       "      <td>3.849500e+04</td>\n",
       "      <td>2.000000</td>\n",
       "      <td>5000.000000</td>\n",
       "      <td>7.900000</td>\n",
       "      <td>3.000000</td>\n",
       "    </tr>\n",
       "    <tr>\n",
       "      <th>50%</th>\n",
       "      <td>26.000000</td>\n",
       "      <td>5.500000e+04</td>\n",
       "      <td>4.000000</td>\n",
       "      <td>8000.000000</td>\n",
       "      <td>10.990000</td>\n",
       "      <td>4.000000</td>\n",
       "    </tr>\n",
       "    <tr>\n",
       "      <th>75%</th>\n",
       "      <td>30.000000</td>\n",
       "      <td>7.900000e+04</td>\n",
       "      <td>7.000000</td>\n",
       "      <td>12250.000000</td>\n",
       "      <td>13.480000</td>\n",
       "      <td>8.000000</td>\n",
       "    </tr>\n",
       "    <tr>\n",
       "      <th>max</th>\n",
       "      <td>144.000000</td>\n",
       "      <td>6.000000e+06</td>\n",
       "      <td>123.000000</td>\n",
       "      <td>35000.000000</td>\n",
       "      <td>23.220000</td>\n",
       "      <td>30.000000</td>\n",
       "    </tr>\n",
       "  </tbody>\n",
       "</table>\n",
       "</div>"
      ],
      "text/plain": [
       "         person_age  person_income  person_emp_length     loan_amnt  \\\n",
       "count  25932.000000   2.593200e+04       25206.000000  25932.000000   \n",
       "mean      27.721155   6.589884e+04           4.811315   9611.395187   \n",
       "std        6.382311   6.333831e+04           4.172822   6339.054572   \n",
       "min       20.000000   4.000000e+03           0.000000    500.000000   \n",
       "25%       23.000000   3.849500e+04           2.000000   5000.000000   \n",
       "50%       26.000000   5.500000e+04           4.000000   8000.000000   \n",
       "75%       30.000000   7.900000e+04           7.000000  12250.000000   \n",
       "max      144.000000   6.000000e+06         123.000000  35000.000000   \n",
       "\n",
       "       loan_int_rate  cb_person_cred_hist_length  \n",
       "count   23439.000000                25932.000000  \n",
       "mean       11.013784                    5.793460  \n",
       "std         3.240104                    4.052297  \n",
       "min         5.420000                    2.000000  \n",
       "25%         7.900000                    3.000000  \n",
       "50%        10.990000                    4.000000  \n",
       "75%        13.480000                    8.000000  \n",
       "max        23.220000                   30.000000  "
      ]
     },
     "execution_count": 21,
     "metadata": {},
     "output_type": "execute_result"
    }
   ],
   "source": [
    "X.describe()"
   ]
  },
  {
   "cell_type": "code",
   "execution_count": 22,
   "id": "bdbba272",
   "metadata": {},
   "outputs": [
    {
     "data": {
      "text/plain": [
       "['person_age',\n",
       " 'person_income',\n",
       " 'person_emp_length',\n",
       " 'loan_amnt',\n",
       " 'loan_int_rate',\n",
       " 'cb_person_cred_hist_length']"
      ]
     },
     "execution_count": 22,
     "metadata": {},
     "output_type": "execute_result"
    }
   ],
   "source": [
    "num_cols = [col for col in X if X[col].dtypes != 'O']\n",
    "num_cols"
   ]
  },
  {
   "cell_type": "code",
   "execution_count": 25,
   "id": "b3bea154",
   "metadata": {},
   "outputs": [
    {
     "data": {
      "image/png": "[encoded data removed]",
      "text/plain": [
       "<Figure size 432x288 with 1 Axes>"
      ]
     },
     "metadata": {
      "needs_background": "light"
     },
     "output_type": "display_data"
    },
    {
     "data": {
      "image/png": "[encoded data removed]",
      "text/plain": [
       "<Figure size 432x288 with 1 Axes>"
      ]
     },
     "metadata": {
      "needs_background": "light"
     },
     "output_type": "display_data"
    },
    {
     "data": {
      "image/png": "[encoded data removed]",
      "text/plain": [
       "<Figure size 432x288 with 1 Axes>"
      ]
     },
     "metadata": {
      "needs_background": "light"
     },
     "output_type": "display_data"
    },
    {
     "data": {
      "image/png": "[encoded data removed]",
      "text/plain": [
       "<Figure size 432x288 with 1 Axes>"
      ]
     },
     "metadata": {
      "needs_background": "light"
     },
     "output_type": "display_data"
    },
    {
     "data": {
      "image/png": "[encoded data removed]",
      "text/plain": [
       "<Figure size 432x288 with 1 Axes>"
      ]
     },
     "metadata": {
      "needs_background": "light"
     },
     "output_type": "display_data"
    },
    {
     "data": {
      "image/png": "[encoded data removed]",
      "text/plain": [
       "<Figure size 432x288 with 1 Axes>"
      ]
     },
     "metadata": {
      "needs_background": "light"
     },
     "output_type": "display_data"
    }
   ],
   "source": [
    "for col in num_cols:\n",
    "    sns.histplot(X[col])\n",
    "    plt.show()"
   ]
  },
  {
   "cell_type": "code",
   "execution_count": 26,
   "id": "080bc843",
   "metadata": {},
   "outputs": [
    {
     "data": {
      "text/html": [
       "<div>\n",
       "<style scoped>\n",
       "    .dataframe tbody tr th:only-of-type {\n",
       "        vertical-align: middle;\n",
       "    }\n",
       "\n",
       "    .dataframe tbody tr th {\n",
       "        vertical-align: top;\n",
       "    }\n",
       "\n",
       "    .dataframe thead th {\n",
       "        text-align: right;\n",
       "    }\n",
       "</style>\n",
       "<table border=\"1\" class=\"dataframe\">\n",
       "  <thead>\n",
       "    <tr style=\"text-align: right;\">\n",
       "      <th></th>\n",
       "      <th>person_age</th>\n",
       "      <th>person_income</th>\n",
       "      <th>person_home_ownership</th>\n",
       "      <th>person_emp_length</th>\n",
       "      <th>loan_intent</th>\n",
       "      <th>loan_grade</th>\n",
       "      <th>loan_amnt</th>\n",
       "      <th>loan_int_rate</th>\n",
       "      <th>cb_person_default_on_file</th>\n",
       "      <th>cb_person_cred_hist_length</th>\n",
       "    </tr>\n",
       "  </thead>\n",
       "  <tbody>\n",
       "    <tr>\n",
       "      <th>32422</th>\n",
       "      <td>80</td>\n",
       "      <td>64000</td>\n",
       "      <td>RENT</td>\n",
       "      <td>7.0</td>\n",
       "      <td>MEDICAL</td>\n",
       "      <td>B</td>\n",
       "      <td>6800</td>\n",
       "      <td>11.71</td>\n",
       "      <td>N</td>\n",
       "      <td>25</td>\n",
       "    </tr>\n",
       "    <tr>\n",
       "      <th>81</th>\n",
       "      <td>144</td>\n",
       "      <td>250000</td>\n",
       "      <td>RENT</td>\n",
       "      <td>4.0</td>\n",
       "      <td>VENTURE</td>\n",
       "      <td>C</td>\n",
       "      <td>4800</td>\n",
       "      <td>13.57</td>\n",
       "      <td>N</td>\n",
       "      <td>3</td>\n",
       "    </tr>\n",
       "    <tr>\n",
       "      <th>32416</th>\n",
       "      <td>94</td>\n",
       "      <td>24000</td>\n",
       "      <td>RENT</td>\n",
       "      <td>1.0</td>\n",
       "      <td>MEDICAL</td>\n",
       "      <td>C</td>\n",
       "      <td>6500</td>\n",
       "      <td>NaN</td>\n",
       "      <td>N</td>\n",
       "      <td>27</td>\n",
       "    </tr>\n",
       "    <tr>\n",
       "      <th>747</th>\n",
       "      <td>123</td>\n",
       "      <td>78000</td>\n",
       "      <td>RENT</td>\n",
       "      <td>7.0</td>\n",
       "      <td>VENTURE</td>\n",
       "      <td>B</td>\n",
       "      <td>20000</td>\n",
       "      <td>NaN</td>\n",
       "      <td>N</td>\n",
       "      <td>4</td>\n",
       "    </tr>\n",
       "    <tr>\n",
       "      <th>183</th>\n",
       "      <td>144</td>\n",
       "      <td>200000</td>\n",
       "      <td>MORTGAGE</td>\n",
       "      <td>4.0</td>\n",
       "      <td>EDUCATION</td>\n",
       "      <td>B</td>\n",
       "      <td>6000</td>\n",
       "      <td>11.86</td>\n",
       "      <td>N</td>\n",
       "      <td>2</td>\n",
       "    </tr>\n",
       "    <tr>\n",
       "      <th>575</th>\n",
       "      <td>123</td>\n",
       "      <td>80004</td>\n",
       "      <td>RENT</td>\n",
       "      <td>2.0</td>\n",
       "      <td>EDUCATION</td>\n",
       "      <td>B</td>\n",
       "      <td>20400</td>\n",
       "      <td>10.25</td>\n",
       "      <td>N</td>\n",
       "      <td>3</td>\n",
       "    </tr>\n",
       "    <tr>\n",
       "      <th>32506</th>\n",
       "      <td>84</td>\n",
       "      <td>94800</td>\n",
       "      <td>MORTGAGE</td>\n",
       "      <td>2.0</td>\n",
       "      <td>PERSONAL</td>\n",
       "      <td>A</td>\n",
       "      <td>10000</td>\n",
       "      <td>7.51</td>\n",
       "      <td>N</td>\n",
       "      <td>24</td>\n",
       "    </tr>\n",
       "    <tr>\n",
       "      <th>32297</th>\n",
       "      <td>144</td>\n",
       "      <td>6000000</td>\n",
       "      <td>MORTGAGE</td>\n",
       "      <td>12.0</td>\n",
       "      <td>PERSONAL</td>\n",
       "      <td>C</td>\n",
       "      <td>5000</td>\n",
       "      <td>12.73</td>\n",
       "      <td>N</td>\n",
       "      <td>25</td>\n",
       "    </tr>\n",
       "  </tbody>\n",
       "</table>\n",
       "</div>"
      ],
      "text/plain": [
       "       person_age  person_income person_home_ownership  person_emp_length  \\\n",
       "32422          80          64000                  RENT                7.0   \n",
       "81            144         250000                  RENT                4.0   \n",
       "32416          94          24000                  RENT                1.0   \n",
       "747           123          78000                  RENT                7.0   \n",
       "183           144         200000              MORTGAGE                4.0   \n",
       "575           123          80004                  RENT                2.0   \n",
       "32506          84          94800              MORTGAGE                2.0   \n",
       "32297         144        6000000              MORTGAGE               12.0   \n",
       "\n",
       "      loan_intent loan_grade  loan_amnt  loan_int_rate  \\\n",
       "32422     MEDICAL          B       6800          11.71   \n",
       "81        VENTURE          C       4800          13.57   \n",
       "32416     MEDICAL          C       6500            NaN   \n",
       "747       VENTURE          B      20000            NaN   \n",
       "183     EDUCATION          B       6000          11.86   \n",
       "575     EDUCATION          B      20400          10.25   \n",
       "32506    PERSONAL          A      10000           7.51   \n",
       "32297    PERSONAL          C       5000          12.73   \n",
       "\n",
       "      cb_person_default_on_file  cb_person_cred_hist_length  \n",
       "32422                         N                          25  \n",
       "81                            N                           3  \n",
       "32416                         N                          27  \n",
       "747                           N                           4  \n",
       "183                           N                           2  \n",
       "575                           N                           3  \n",
       "32506                         N                          24  \n",
       "32297                         N                          25  "
      ]
     },
     "execution_count": 26,
     "metadata": {},
     "output_type": "execute_result"
    }
   ],
   "source": [
    "X.loc[X['person_age']>=80, :]"
   ]
  },
  {
   "cell_type": "code",
   "execution_count": 27,
   "id": "c2ae2ff1",
   "metadata": {},
   "outputs": [],
   "source": [
    "X = X.loc[X['person_age']<80, :]"
   ]
  },
  {
   "cell_type": "code",
   "execution_count": 28,
   "id": "70a54cdb",
   "metadata": {},
   "outputs": [
    {
     "data": {
      "text/plain": [
       "(25924, 10)"
      ]
     },
     "execution_count": 28,
     "metadata": {},
     "output_type": "execute_result"
    }
   ],
   "source": [
    "X.shape"
   ]
  },
  {
   "cell_type": "code",
   "execution_count": 29,
   "id": "a677ac94",
   "metadata": {},
   "outputs": [
    {
     "data": {
      "text/html": [
       "<div>\n",
       "<style scoped>\n",
       "    .dataframe tbody tr th:only-of-type {\n",
       "        vertical-align: middle;\n",
       "    }\n",
       "\n",
       "    .dataframe tbody tr th {\n",
       "        vertical-align: top;\n",
       "    }\n",
       "\n",
       "    .dataframe thead th {\n",
       "        text-align: right;\n",
       "    }\n",
       "</style>\n",
       "<table border=\"1\" class=\"dataframe\">\n",
       "  <thead>\n",
       "    <tr style=\"text-align: right;\">\n",
       "      <th></th>\n",
       "      <th>person_age</th>\n",
       "      <th>person_income</th>\n",
       "      <th>person_home_ownership</th>\n",
       "      <th>person_emp_length</th>\n",
       "      <th>loan_intent</th>\n",
       "      <th>loan_grade</th>\n",
       "      <th>loan_amnt</th>\n",
       "      <th>loan_int_rate</th>\n",
       "      <th>cb_person_default_on_file</th>\n",
       "      <th>cb_person_cred_hist_length</th>\n",
       "    </tr>\n",
       "  </thead>\n",
       "  <tbody>\n",
       "    <tr>\n",
       "      <th>210</th>\n",
       "      <td>21</td>\n",
       "      <td>192000</td>\n",
       "      <td>MORTGAGE</td>\n",
       "      <td>123.0</td>\n",
       "      <td>VENTURE</td>\n",
       "      <td>A</td>\n",
       "      <td>20000</td>\n",
       "      <td>6.54</td>\n",
       "      <td>N</td>\n",
       "      <td>4</td>\n",
       "    </tr>\n",
       "    <tr>\n",
       "      <th>0</th>\n",
       "      <td>22</td>\n",
       "      <td>59000</td>\n",
       "      <td>RENT</td>\n",
       "      <td>123.0</td>\n",
       "      <td>PERSONAL</td>\n",
       "      <td>D</td>\n",
       "      <td>35000</td>\n",
       "      <td>16.02</td>\n",
       "      <td>Y</td>\n",
       "      <td>3</td>\n",
       "    </tr>\n",
       "  </tbody>\n",
       "</table>\n",
       "</div>"
      ],
      "text/plain": [
       "     person_age  person_income person_home_ownership  person_emp_length  \\\n",
       "210          21         192000              MORTGAGE              123.0   \n",
       "0            22          59000                  RENT              123.0   \n",
       "\n",
       "    loan_intent loan_grade  loan_amnt  loan_int_rate  \\\n",
       "210     VENTURE          A      20000           6.54   \n",
       "0      PERSONAL          D      35000          16.02   \n",
       "\n",
       "    cb_person_default_on_file  cb_person_cred_hist_length  \n",
       "210                         N                           4  \n",
       "0                           Y                           3  "
      ]
     },
     "execution_count": 29,
     "metadata": {},
     "output_type": "execute_result"
    }
   ],
   "source": [
    "X.loc[X['person_emp_length']>=66, :]"
   ]
  },
  {
   "cell_type": "code",
   "execution_count": 30,
   "id": "40968a97",
   "metadata": {},
   "outputs": [
    {
     "data": {
      "text/html": [
       "<div>\n",
       "<style scoped>\n",
       "    .dataframe tbody tr th:only-of-type {\n",
       "        vertical-align: middle;\n",
       "    }\n",
       "\n",
       "    .dataframe tbody tr th {\n",
       "        vertical-align: top;\n",
       "    }\n",
       "\n",
       "    .dataframe thead th {\n",
       "        text-align: right;\n",
       "    }\n",
       "</style>\n",
       "<table border=\"1\" class=\"dataframe\">\n",
       "  <thead>\n",
       "    <tr style=\"text-align: right;\">\n",
       "      <th></th>\n",
       "      <th>person_age</th>\n",
       "      <th>person_income</th>\n",
       "      <th>person_home_ownership</th>\n",
       "      <th>person_emp_length</th>\n",
       "      <th>loan_intent</th>\n",
       "      <th>loan_grade</th>\n",
       "      <th>loan_amnt</th>\n",
       "      <th>loan_int_rate</th>\n",
       "      <th>loan_status</th>\n",
       "      <th>loan_percent_income</th>\n",
       "      <th>cb_person_default_on_file</th>\n",
       "      <th>cb_person_cred_hist_length</th>\n",
       "    </tr>\n",
       "  </thead>\n",
       "  <tbody>\n",
       "    <tr>\n",
       "      <th>0</th>\n",
       "      <td>22</td>\n",
       "      <td>59000</td>\n",
       "      <td>RENT</td>\n",
       "      <td>123.0</td>\n",
       "      <td>PERSONAL</td>\n",
       "      <td>D</td>\n",
       "      <td>35000</td>\n",
       "      <td>16.02</td>\n",
       "      <td>1</td>\n",
       "      <td>0.59</td>\n",
       "      <td>Y</td>\n",
       "      <td>3</td>\n",
       "    </tr>\n",
       "    <tr>\n",
       "      <th>210</th>\n",
       "      <td>21</td>\n",
       "      <td>192000</td>\n",
       "      <td>MORTGAGE</td>\n",
       "      <td>123.0</td>\n",
       "      <td>VENTURE</td>\n",
       "      <td>A</td>\n",
       "      <td>20000</td>\n",
       "      <td>6.54</td>\n",
       "      <td>0</td>\n",
       "      <td>0.10</td>\n",
       "      <td>N</td>\n",
       "      <td>4</td>\n",
       "    </tr>\n",
       "  </tbody>\n",
       "</table>\n",
       "</div>"
      ],
      "text/plain": [
       "     person_age  person_income person_home_ownership  person_emp_length  \\\n",
       "0            22          59000                  RENT              123.0   \n",
       "210          21         192000              MORTGAGE              123.0   \n",
       "\n",
       "    loan_intent loan_grade  loan_amnt  loan_int_rate  loan_status  \\\n",
       "0      PERSONAL          D      35000          16.02            1   \n",
       "210     VENTURE          A      20000           6.54            0   \n",
       "\n",
       "     loan_percent_income cb_person_default_on_file  cb_person_cred_hist_length  \n",
       "0                   0.59                         Y                           3  \n",
       "210                 0.10                         N                           4  "
      ]
     },
     "execution_count": 30,
     "metadata": {},
     "output_type": "execute_result"
    }
   ],
   "source": [
    "df.query(\"person_age<=person_emp_length+14\")"
   ]
  },
  {
   "cell_type": "code",
   "execution_count": 31,
   "id": "cd8fa540",
   "metadata": {},
   "outputs": [],
   "source": [
    "X = X.loc[(X['person_emp_length']<66) | (X['person_emp_length'].isna()), :]"
   ]
  },
  {
   "cell_type": "code",
   "execution_count": 32,
   "id": "69724fc0",
   "metadata": {},
   "outputs": [],
   "source": [
    "y = y[X.index]"
   ]
  },
  {
   "cell_type": "code",
   "execution_count": 33,
   "id": "4d678651",
   "metadata": {},
   "outputs": [
    {
     "data": {
      "text/plain": [
       "['person_home_ownership',\n",
       " 'loan_intent',\n",
       " 'loan_grade',\n",
       " 'cb_person_default_on_file']"
      ]
     },
     "execution_count": 33,
     "metadata": {},
     "output_type": "execute_result"
    }
   ],
   "source": [
    "cat_cols = [col for col in X if X[col].dtypes == 'O']\n",
    "cat_cols"
   ]
  },
  {
   "cell_type": "code",
   "execution_count": 34,
   "id": "cbf6fa45",
   "metadata": {},
   "outputs": [],
   "source": [
    "num_pipe = Pipeline([\n",
    "    ('impute', IterativeImputer()),\n",
    "    ('scale', StandardScaler()),\n",
    "])"
   ]
  },
  {
   "cell_type": "code",
   "execution_count": 35,
   "id": "f9d159c2",
   "metadata": {},
   "outputs": [],
   "source": [
    "ct = ColumnTransformer([\n",
    "    ('num_pipe', num_pipe, num_cols),\n",
    "    ('cat_cols', OneHotEncoder(sparse=False, handle_unknown='ignore'), cat_cols)\n",
    "], remainder='passthrough')"
   ]
  },
  {
   "cell_type": "code",
   "execution_count": 36,
   "id": "a86a3b3e",
   "metadata": {},
   "outputs": [],
   "source": [
    "grid = {\n",
    "    RandomForestClassifier(random_state=0, n_jobs=-1, class_weight='balanced'):\n",
    "    {'model__n_estimators':[300,400,500],\n",
    "     'coltf__num_pipe__impute__estimator': [LinearRegression(), RandomForestRegressor(random_state=0),\n",
    "                                        KNeighborsRegressor()]},\n",
    "    \n",
    "    LGBMClassifier(class_weight='balanced', random_state=0, n_jobs=-1):\n",
    "    {'model__n_estimators':[300,400,500],\n",
    "     'model__learning_rate':[0.001,0.01,0.1,1,10],\n",
    "     'model__boosting_type': ['gbdt', 'goss', 'dart'],\n",
    "     'coltf__num_pipe__impute__estimator':[LinearRegression(), RandomForestRegressor(random_state=0),\n",
    "                                        KNeighborsRegressor()]},\n",
    "}"
   ]
  },
  {
   "cell_type": "code",
   "execution_count": 37,
   "id": "5cf47b2c",
   "metadata": {},
   "outputs": [
    {
     "name": "stdout",
     "output_type": "stream",
     "text": [
      "RandomForestClassifier(class_weight='balanced', n_jobs=-1, random_state=0)\n",
      "--------------------------------------------------\n",
      "{'model__n_estimators': [300, 400, 500], 'coltf__num_pipe__impute__estimator': [LinearRegression(), RandomForestRegressor(random_state=0), KNeighborsRegressor()]}\n",
      "\n",
      "\n",
      "LGBMClassifier(class_weight='balanced', random_state=0)\n",
      "--------------------------------------------------\n",
      "{'model__n_estimators': [300, 400, 500], 'model__learning_rate': [0.001, 0.01, 0.1, 1, 10], 'model__boosting_type': ['gbdt', 'goss', 'dart'], 'coltf__num_pipe__impute__estimator': [LinearRegression(), RandomForestRegressor(random_state=0), KNeighborsRegressor()]}\n",
      "\n",
      "\n"
     ]
    }
   ],
   "source": [
    "for clf, param in grid.items():\n",
    "    print(clf)\n",
    "    print('-'*50)\n",
    "    print(param)\n",
    "    print('\\n')"
   ]
  },
  {
   "cell_type": "code",
   "execution_count": 38,
   "id": "72e85b86",
   "metadata": {},
   "outputs": [
    {
     "name": "stdout",
     "output_type": "stream",
     "text": [
      "Fitting 5 folds for each of 4 candidates, totalling 20 fits\n",
      "Fitting 5 folds for each of 4 candidates, totalling 20 fits\n"
     ]
    }
   ],
   "source": [
    "full_df = pd.DataFrame()\n",
    "best_algos = {}\n",
    "\n",
    "for clf, param in grid.items():\n",
    "    pipe = Pipeline([\n",
    "    ('coltf', ct),\n",
    "    ('model', clf)\n",
    "])\n",
    "\n",
    "    gs = RandomizedSearchCV(estimator=pipe, param_distributions=param, scoring='accuracy',\n",
    "                            n_jobs=-1, verbose=3, n_iter=4, random_state=0)\n",
    "    \n",
    "    gs.fit(X, y)\n",
    "    \n",
    "    all_res = pd.DataFrame(gs.cv_results_)\n",
    "\n",
    "    temp = all_res.loc[:, ['params', 'mean_test_score']]\n",
    "    algo_name = str(clf).split('(')[0]\n",
    "    temp['algo'] = algo_name\n",
    "    \n",
    "    full_df = pd.concat([full_df, temp], ignore_index=True)\n",
    "    best_algos[algo_name] = gs.best_estimator_"
   ]
  },
  {
   "cell_type": "code",
   "execution_count": 39,
   "id": "49ef2a3a",
   "metadata": {},
   "outputs": [
    {
     "data": {
      "text/html": [
       "<div>\n",
       "<style scoped>\n",
       "    .dataframe tbody tr th:only-of-type {\n",
       "        vertical-align: middle;\n",
       "    }\n",
       "\n",
       "    .dataframe tbody tr th {\n",
       "        vertical-align: top;\n",
       "    }\n",
       "\n",
       "    .dataframe thead th {\n",
       "        text-align: right;\n",
       "    }\n",
       "</style>\n",
       "<table border=\"1\" class=\"dataframe\">\n",
       "  <thead>\n",
       "    <tr style=\"text-align: right;\">\n",
       "      <th></th>\n",
       "      <th>params</th>\n",
       "      <th>mean_test_score</th>\n",
       "      <th>algo</th>\n",
       "    </tr>\n",
       "  </thead>\n",
       "  <tbody>\n",
       "    <tr>\n",
       "      <th>3</th>\n",
       "      <td>{'model__n_estimators': 400, 'coltf__num_pipe_...</td>\n",
       "      <td>0.922151</td>\n",
       "      <td>RandomForestClassifier</td>\n",
       "    </tr>\n",
       "    <tr>\n",
       "      <th>0</th>\n",
       "      <td>{'model__n_estimators': 400, 'coltf__num_pipe_...</td>\n",
       "      <td>0.921727</td>\n",
       "      <td>RandomForestClassifier</td>\n",
       "    </tr>\n",
       "    <tr>\n",
       "      <th>1</th>\n",
       "      <td>{'model__n_estimators': 500, 'coltf__num_pipe_...</td>\n",
       "      <td>0.921688</td>\n",
       "      <td>RandomForestClassifier</td>\n",
       "    </tr>\n",
       "    <tr>\n",
       "      <th>2</th>\n",
       "      <td>{'model__n_estimators': 400, 'coltf__num_pipe_...</td>\n",
       "      <td>0.921650</td>\n",
       "      <td>RandomForestClassifier</td>\n",
       "    </tr>\n",
       "    <tr>\n",
       "      <th>7</th>\n",
       "      <td>{'model__n_estimators': 300, 'model__learning_...</td>\n",
       "      <td>0.908804</td>\n",
       "      <td>LGBMClassifier</td>\n",
       "    </tr>\n",
       "    <tr>\n",
       "      <th>4</th>\n",
       "      <td>{'model__n_estimators': 300, 'model__learning_...</td>\n",
       "      <td>0.869339</td>\n",
       "      <td>LGBMClassifier</td>\n",
       "    </tr>\n",
       "    <tr>\n",
       "      <th>5</th>\n",
       "      <td>{'model__n_estimators': 300, 'model__learning_...</td>\n",
       "      <td>0.868683</td>\n",
       "      <td>LGBMClassifier</td>\n",
       "    </tr>\n",
       "    <tr>\n",
       "      <th>6</th>\n",
       "      <td>{'model__n_estimators': 300, 'model__learning_...</td>\n",
       "      <td>0.863784</td>\n",
       "      <td>LGBMClassifier</td>\n",
       "    </tr>\n",
       "  </tbody>\n",
       "</table>\n",
       "</div>"
      ],
      "text/plain": [
       "                                              params  mean_test_score  \\\n",
       "3  {'model__n_estimators': 400, 'coltf__num_pipe_...         0.922151   \n",
       "0  {'model__n_estimators': 400, 'coltf__num_pipe_...         0.921727   \n",
       "1  {'model__n_estimators': 500, 'coltf__num_pipe_...         0.921688   \n",
       "2  {'model__n_estimators': 400, 'coltf__num_pipe_...         0.921650   \n",
       "7  {'model__n_estimators': 300, 'model__learning_...         0.908804   \n",
       "4  {'model__n_estimators': 300, 'model__learning_...         0.869339   \n",
       "5  {'model__n_estimators': 300, 'model__learning_...         0.868683   \n",
       "6  {'model__n_estimators': 300, 'model__learning_...         0.863784   \n",
       "\n",
       "                     algo  \n",
       "3  RandomForestClassifier  \n",
       "0  RandomForestClassifier  \n",
       "1  RandomForestClassifier  \n",
       "2  RandomForestClassifier  \n",
       "7          LGBMClassifier  \n",
       "4          LGBMClassifier  \n",
       "5          LGBMClassifier  \n",
       "6          LGBMClassifier  "
      ]
     },
     "execution_count": 39,
     "metadata": {},
     "output_type": "execute_result"
    }
   ],
   "source": [
    "full_df.sort_values('mean_test_score', ascending=False)"
   ]
  }
 ],
 "metadata": {
  "kernelspec": {
   "display_name": "Python 3",
   "language": "python",
   "name": "python3"
  },
  "language_info": {
   "codemirror_mode": {
    "name": "ipython",
    "version": 3
   },
   "file_extension": ".py",
   "mimetype": "text/x-python",
   "name": "python",
   "nbconvert_exporter": "python",
   "pygments_lexer": "ipython3",
   "version": "3.8.8"
  }
 },
 "nbformat": 4,
 "nbformat_minor": 5
}
